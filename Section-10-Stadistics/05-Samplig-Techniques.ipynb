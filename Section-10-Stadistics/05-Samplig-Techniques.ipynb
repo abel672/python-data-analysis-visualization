{
 "cells": [
  {
   "cell_type": "markdown",
   "metadata": {},
   "source": [
    "[Sample Distribution](https://www.youtube.com/watch?v=z0Ry_3_qhDw&ab_channel=KhanAcademy)\n",
    "\n",
    "[Notebook](https://github.com/jmportilla/Statistics-Notes/blob/master/Sampling%20Techniques.ipynb)"
   ]
  }
 ],
 "metadata": {
  "language_info": {
   "name": "python"
  },
  "orig_nbformat": 4
 },
 "nbformat": 4,
 "nbformat_minor": 2
}
