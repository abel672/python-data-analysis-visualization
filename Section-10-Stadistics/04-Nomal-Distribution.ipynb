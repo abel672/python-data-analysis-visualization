{
 "cells": [
  {
   "cell_type": "markdown",
   "metadata": {},
   "source": [
    "[Notebook](https://github.com/jmportilla/Statistics-Notes/blob/master/Normal%20Distribution.ipynb)\n",
    "\n",
    "[Normal Distribution](https://www.youtube.com/watch?v=rzFX5NWojp0&ab_channel=StatQuestwithJoshStarmer)"
   ]
  },
  {
   "cell_type": "code",
   "execution_count": 2,
   "metadata": {},
   "outputs": [
    {
     "data": {
      "text/html": [
       "<img src=\"http://upload.wikimedia.org/wikipedia/commons/thumb/2/25/The_Normal_Distribution.svg/725px-The_Normal_Distribution.svg.png\"/>"
      ],
      "text/plain": [
       "<IPython.core.display.Image object>"
      ]
     },
     "execution_count": 2,
     "metadata": {},
     "output_type": "execute_result"
    }
   ],
   "source": [
    "from IPython.display import Image\n",
    "Image(url='http://upload.wikimedia.org/wikipedia/commons/thumb/2/25/The_Normal_Distribution.svg/725px-The_Normal_Distribution.svg.png')"
   ]
  },
  {
   "cell_type": "code",
   "execution_count": 5,
   "metadata": {},
   "outputs": [
    {
     "data": {
      "text/plain": [
       "[<matplotlib.lines.Line2D at 0x7fd8b2ea0a50>]"
      ]
     },
     "execution_count": 5,
     "metadata": {},
     "output_type": "execute_result"
    },
    {
     "data": {
      "image/png": "[encoded data removed]",
      "text/plain": [
       "<Figure size 432x288 with 1 Axes>"
      ]
     },
     "metadata": {
      "needs_background": "light"
     },
     "output_type": "display_data"
    }
   ],
   "source": [
    "# Normal distribution with scipy\n",
    "import numpy as np\n",
    "\n",
    "import matplotlib as mpl\n",
    "import matplotlib.pyplot as plt\n",
    "%matplotlib inline\n",
    "\n",
    "from scipy import stats\n",
    "\n",
    "mean = 0\n",
    "\n",
    "std = 1\n",
    "\n",
    "X = np.arange(-4,4,0.01)\n",
    "\n",
    "Y = stats.norm.pdf(X, mean, std)\n",
    "\n",
    "plt.plot(X,Y)"
   ]
  },
  {
   "cell_type": "code",
   "execution_count": 6,
   "metadata": {},
   "outputs": [],
   "source": [
    "# now let's do it with numpy\n",
    "mu, sigma = 0,0.1\n",
    "\n",
    "norm_set = np.random.normal(mu, sigma, 1000)"
   ]
  },
  {
   "cell_type": "code",
   "execution_count": 7,
   "metadata": {},
   "outputs": [
    {
     "data": {
      "text/plain": [
       "(array([ 1.,  0.,  1.,  3.,  1.,  3.,  2.,  4.,  9.,  3., 11., 12., 11.,\n",
       "        14., 16., 23., 27., 35., 27., 41., 41., 40., 47., 41., 54., 43.,\n",
       "        55., 59., 49., 38., 31., 39., 32., 42., 22., 29., 15., 12., 17.,\n",
       "        12., 10., 11.,  3.,  5.,  4.,  2.,  0.,  1.,  1.,  1.]),\n",
       " array([-0.324989  , -0.31223663, -0.29948427, -0.28673191, -0.27397955,\n",
       "        -0.26122719, -0.24847482, -0.23572246, -0.2229701 , -0.21021774,\n",
       "        -0.19746538, -0.18471301, -0.17196065, -0.15920829, -0.14645593,\n",
       "        -0.13370356, -0.1209512 , -0.10819884, -0.09544648, -0.08269412,\n",
       "        -0.06994175, -0.05718939, -0.04443703, -0.03168467, -0.01893231,\n",
       "        -0.00617994,  0.00657242,  0.01932478,  0.03207714,  0.04482951,\n",
       "         0.05758187,  0.07033423,  0.08308659,  0.09583895,  0.10859132,\n",
       "         0.12134368,  0.13409604,  0.1468484 ,  0.15960076,  0.17235313,\n",
       "         0.18510549,  0.19785785,  0.21061021,  0.22336257,  0.23611494,\n",
       "         0.2488673 ,  0.26161966,  0.27437202,  0.28712439,  0.29987675,\n",
       "         0.31262911]),\n",
       " <BarContainer object of 50 artists>)"
      ]
     },
     "execution_count": 7,
     "metadata": {},
     "output_type": "execute_result"
    },
    {
     "data": {
      "image/png": "[encoded data removed]",
      "text/plain": [
       "<Figure size 432x288 with 1 Axes>"
      ]
     },
     "metadata": {
      "needs_background": "light"
     },
     "output_type": "display_data"
    }
   ],
   "source": [
    "import seaborn as sns\n",
    "\n",
    "plt.hist(norm_set, bins=50)"
   ]
  }
 ],
 "metadata": {
  "interpreter": {
   "hash": "e39a0c7faa510b0f53a3ebe396e528d1555f32e92f6931e3a223e579733b4028"
  },
  "kernelspec": {
   "display_name": "Python 3.7.4 64-bit ('base': conda)",
   "name": "python3"
  },
  "language_info": {
   "codemirror_mode": {
    "name": "ipython",
    "version": 3
   },
   "file_extension": ".py",
   "mimetype": "text/x-python",
   "name": "python",
   "nbconvert_exporter": "python",
   "pygments_lexer": "ipython3",
   "version": "3.7.4"
  },
  "orig_nbformat": 4
 },
 "nbformat": 4,
 "nbformat_minor": 2
}
