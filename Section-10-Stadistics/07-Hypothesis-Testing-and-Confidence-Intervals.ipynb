{
 "cells": [
  {
   "cell_type": "markdown",
   "metadata": {},
   "source": [
    "[Conficence Intervals](https://www.youtube.com/watch?v=hlM7zdf7zwU&ab_channel=KhanAcademy)\n",
    "\n",
    "[Hypothesis Testing and P-value](https://www.youtube.com/watch?v=-FtlH4svqx4&ab_channel=KhanAcademy)\n",
    "\n",
    "\n",
    "[Notebook](https://github.com/jmportilla/Statistics-Notes/blob/master/Hypothesis%20Testing%20and%20Confidence%20Intervals.ipynb)"
   ]
  }
 ],
 "metadata": {
  "language_info": {
   "name": "python"
  },
  "orig_nbformat": 4
 },
 "nbformat": 4,
 "nbformat_minor": 2
}
