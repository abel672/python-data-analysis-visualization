{
 "metadata": {
  "language_info": {
   "codemirror_mode": {
    "name": "ipython",
    "version": 3
   },
   "file_extension": ".py",
   "mimetype": "text/x-python",
   "name": "python",
   "nbconvert_exporter": "python",
   "pygments_lexer": "ipython3",
   "version": "3.7.4"
  },
  "orig_nbformat": 2,
  "kernelspec": {
   "name": "python374jvsc74a57bd0acddb2cf2bfa22fe258b0acfa21ff626a2f5af6cabd7b3bbd54a8c26bee74faa",
   "display_name": "Python 3.7.4 64-bit ('base': conda)"
  }
 },
 "nbformat": 4,
 "nbformat_minor": 2,
 "cells": [
  {
   "cell_type": "code",
   "execution_count": 1,
   "metadata": {},
   "outputs": [],
   "source": [
    "import numpy as np\n",
    "\n",
    "import pandas as pd\n",
    "\n",
    "from pandas import Series, DataFrame"
   ]
  },
  {
   "cell_type": "code",
   "execution_count": 3,
   "metadata": {},
   "outputs": [
    {
     "output_type": "execute_result",
     "data": {
      "text/plain": [
       "True"
      ]
     },
     "metadata": {},
     "execution_count": 3
    }
   ],
   "source": [
    "import webbrowser\n",
    "website = 'https://en.wikipedia.org/wiki/NFL_win–loss_records'\n",
    "webbrowser.open(website)"
   ]
  },
  {
   "cell_type": "code",
   "execution_count": 4,
   "metadata": {},
   "outputs": [],
   "source": [
    "nfl_frame = pd.read_clipboard()"
   ]
  },
  {
   "cell_type": "code",
   "execution_count": 5,
   "metadata": {},
   "outputs": [
    {
     "output_type": "execute_result",
     "data": {
      "text/plain": [
       "   Rank                  Team     GP  ...   Pct.  First NFL season   Division\n",
       "0     1     Green Bay Packers  1,384  ...  0.569              1921  NFC North\n",
       "1     2        Dallas Cowboys    930  ...  0.569              1960   NFC East\n",
       "2     3      Baltimore Ravens    400  ...  0.564              1996  AFC North\n",
       "3     4         Chicago Bears  1,418  ...  0.563              1920  NFC North\n",
       "4     5  New England Patriots    932  ...  0.562              1960   AFC East\n",
       "\n",
       "[5 rows x 9 columns]"
      ],
      "text/html": "<div>\n<style scoped>\n    .dataframe tbody tr th:only-of-type {\n        vertical-align: middle;\n    }\n\n    .dataframe tbody tr th {\n        vertical-align: top;\n    }\n\n    .dataframe thead th {\n        text-align: right;\n    }\n</style>\n<table border=\"1\" class=\"dataframe\">\n  <thead>\n    <tr style=\"text-align: right;\">\n      <th></th>\n      <th>Rank</th>\n      <th>Team</th>\n      <th>GP</th>\n      <th>Won</th>\n      <th>Lost</th>\n      <th>Tied</th>\n      <th>Pct.</th>\n      <th>First NFL season</th>\n      <th>Division</th>\n    </tr>\n  </thead>\n  <tbody>\n    <tr>\n      <th>0</th>\n      <td>1</td>\n      <td>Green Bay Packers</td>\n      <td>1,384</td>\n      <td>769</td>\n      <td>577</td>\n      <td>38</td>\n      <td>0.569</td>\n      <td>1921</td>\n      <td>NFC North</td>\n    </tr>\n    <tr>\n      <th>1</th>\n      <td>2</td>\n      <td>Dallas Cowboys</td>\n      <td>930</td>\n      <td>526</td>\n      <td>398</td>\n      <td>6</td>\n      <td>0.569</td>\n      <td>1960</td>\n      <td>NFC East</td>\n    </tr>\n    <tr>\n      <th>2</th>\n      <td>3</td>\n      <td>Baltimore Ravens</td>\n      <td>400</td>\n      <td>225</td>\n      <td>174</td>\n      <td>1</td>\n      <td>0.564</td>\n      <td>1996</td>\n      <td>AFC North</td>\n    </tr>\n    <tr>\n      <th>3</th>\n      <td>4</td>\n      <td>Chicago Bears</td>\n      <td>1,418</td>\n      <td>777</td>\n      <td>599</td>\n      <td>42</td>\n      <td>0.563</td>\n      <td>1920</td>\n      <td>NFC North</td>\n    </tr>\n    <tr>\n      <th>4</th>\n      <td>5</td>\n      <td>New England Patriots</td>\n      <td>932</td>\n      <td>519</td>\n      <td>404</td>\n      <td>9</td>\n      <td>0.562</td>\n      <td>1960</td>\n      <td>AFC East</td>\n    </tr>\n  </tbody>\n</table>\n</div>"
     },
     "metadata": {},
     "execution_count": 5
    }
   ],
   "source": [
    "nfl_frame"
   ]
  },
  {
   "cell_type": "code",
   "execution_count": 7,
   "metadata": {},
   "outputs": [
    {
     "output_type": "execute_result",
     "data": {
      "text/plain": [
       "Index(['Rank', 'Team', 'GP', 'Won', 'Lost', 'Tied', 'Pct.', 'First NFL season',\n",
       "       'Division'],\n",
       "      dtype='object')"
      ]
     },
     "metadata": {},
     "execution_count": 7
    }
   ],
   "source": [
    "nfl_frame.columns"
   ]
  },
  {
   "cell_type": "code",
   "execution_count": 9,
   "metadata": {},
   "outputs": [
    {
     "output_type": "execute_result",
     "data": {
      "text/plain": [
       "0    1\n",
       "1    2\n",
       "2    3\n",
       "3    4\n",
       "4    5\n",
       "Name: Rank, dtype: int64"
      ]
     },
     "metadata": {},
     "execution_count": 9
    }
   ],
   "source": [
    "nfl_frame.Rank"
   ]
  },
  {
   "cell_type": "code",
   "execution_count": 10,
   "metadata": {},
   "outputs": [
    {
     "output_type": "execute_result",
     "data": {
      "text/plain": [
       "0       Green Bay Packers\n",
       "1          Dallas Cowboys\n",
       "2        Baltimore Ravens\n",
       "3           Chicago Bears\n",
       "4    New England Patriots\n",
       "Name: Team, dtype: object"
      ]
     },
     "metadata": {},
     "execution_count": 10
    }
   ],
   "source": [
    "nfl_frame.Team"
   ]
  },
  {
   "cell_type": "code",
   "execution_count": 13,
   "metadata": {},
   "outputs": [
    {
     "output_type": "execute_result",
     "data": {
      "text/plain": [
       "0    1921\n",
       "1    1960\n",
       "2    1996\n",
       "3    1920\n",
       "4    1960\n",
       "Name: First NFL season, dtype: int64"
      ]
     },
     "metadata": {},
     "execution_count": 13
    }
   ],
   "source": [
    "nfl_frame['First NFL season']"
   ]
  },
  {
   "cell_type": "code",
   "execution_count": 14,
   "metadata": {},
   "outputs": [
    {
     "output_type": "execute_result",
     "data": {
      "text/plain": [
       "                   Team  First NFL season  Total Games\n",
       "0     Green Bay Packers              1921          NaN\n",
       "1        Dallas Cowboys              1960          NaN\n",
       "2      Baltimore Ravens              1996          NaN\n",
       "3         Chicago Bears              1920          NaN\n",
       "4  New England Patriots              1960          NaN"
      ],
      "text/html": "<div>\n<style scoped>\n    .dataframe tbody tr th:only-of-type {\n        vertical-align: middle;\n    }\n\n    .dataframe tbody tr th {\n        vertical-align: top;\n    }\n\n    .dataframe thead th {\n        text-align: right;\n    }\n</style>\n<table border=\"1\" class=\"dataframe\">\n  <thead>\n    <tr style=\"text-align: right;\">\n      <th></th>\n      <th>Team</th>\n      <th>First NFL season</th>\n      <th>Total Games</th>\n    </tr>\n  </thead>\n  <tbody>\n    <tr>\n      <th>0</th>\n      <td>Green Bay Packers</td>\n      <td>1921</td>\n      <td>NaN</td>\n    </tr>\n    <tr>\n      <th>1</th>\n      <td>Dallas Cowboys</td>\n      <td>1960</td>\n      <td>NaN</td>\n    </tr>\n    <tr>\n      <th>2</th>\n      <td>Baltimore Ravens</td>\n      <td>1996</td>\n      <td>NaN</td>\n    </tr>\n    <tr>\n      <th>3</th>\n      <td>Chicago Bears</td>\n      <td>1920</td>\n      <td>NaN</td>\n    </tr>\n    <tr>\n      <th>4</th>\n      <td>New England Patriots</td>\n      <td>1960</td>\n      <td>NaN</td>\n    </tr>\n  </tbody>\n</table>\n</div>"
     },
     "metadata": {},
     "execution_count": 14
    }
   ],
   "source": [
    "# creating data frame from other data frame columns\n",
    "DataFrame(nfl_frame, columns=['Team', 'First NFL season', 'Total Games'])"
   ]
  },
  {
   "cell_type": "code",
   "execution_count": 15,
   "metadata": {},
   "outputs": [
    {
     "output_type": "execute_result",
     "data": {
      "text/plain": [
       "   Rank               Team     GP  ...   Pct.  First NFL season   Division\n",
       "0     1  Green Bay Packers  1,384  ...  0.569              1921  NFC North\n",
       "1     2     Dallas Cowboys    930  ...  0.569              1960   NFC East\n",
       "2     3   Baltimore Ravens    400  ...  0.564              1996  AFC North\n",
       "\n",
       "[3 rows x 9 columns]"
      ],
      "text/html": "<div>\n<style scoped>\n    .dataframe tbody tr th:only-of-type {\n        vertical-align: middle;\n    }\n\n    .dataframe tbody tr th {\n        vertical-align: top;\n    }\n\n    .dataframe thead th {\n        text-align: right;\n    }\n</style>\n<table border=\"1\" class=\"dataframe\">\n  <thead>\n    <tr style=\"text-align: right;\">\n      <th></th>\n      <th>Rank</th>\n      <th>Team</th>\n      <th>GP</th>\n      <th>Won</th>\n      <th>Lost</th>\n      <th>Tied</th>\n      <th>Pct.</th>\n      <th>First NFL season</th>\n      <th>Division</th>\n    </tr>\n  </thead>\n  <tbody>\n    <tr>\n      <th>0</th>\n      <td>1</td>\n      <td>Green Bay Packers</td>\n      <td>1,384</td>\n      <td>769</td>\n      <td>577</td>\n      <td>38</td>\n      <td>0.569</td>\n      <td>1921</td>\n      <td>NFC North</td>\n    </tr>\n    <tr>\n      <th>1</th>\n      <td>2</td>\n      <td>Dallas Cowboys</td>\n      <td>930</td>\n      <td>526</td>\n      <td>398</td>\n      <td>6</td>\n      <td>0.569</td>\n      <td>1960</td>\n      <td>NFC East</td>\n    </tr>\n    <tr>\n      <th>2</th>\n      <td>3</td>\n      <td>Baltimore Ravens</td>\n      <td>400</td>\n      <td>225</td>\n      <td>174</td>\n      <td>1</td>\n      <td>0.564</td>\n      <td>1996</td>\n      <td>AFC North</td>\n    </tr>\n  </tbody>\n</table>\n</div>"
     },
     "metadata": {},
     "execution_count": 15
    }
   ],
   "source": [
    "# get first number of rows\n",
    "nfl_frame.head(3)"
   ]
  },
  {
   "cell_type": "code",
   "execution_count": 16,
   "metadata": {},
   "outputs": [
    {
     "output_type": "execute_result",
     "data": {
      "text/plain": [
       "   Rank                  Team     GP  ...   Pct.  First NFL season   Division\n",
       "2     3      Baltimore Ravens    400  ...  0.564              1996  AFC North\n",
       "3     4         Chicago Bears  1,418  ...  0.563              1920  NFC North\n",
       "4     5  New England Patriots    932  ...  0.562              1960   AFC East\n",
       "\n",
       "[3 rows x 9 columns]"
      ],
      "text/html": "<div>\n<style scoped>\n    .dataframe tbody tr th:only-of-type {\n        vertical-align: middle;\n    }\n\n    .dataframe tbody tr th {\n        vertical-align: top;\n    }\n\n    .dataframe thead th {\n        text-align: right;\n    }\n</style>\n<table border=\"1\" class=\"dataframe\">\n  <thead>\n    <tr style=\"text-align: right;\">\n      <th></th>\n      <th>Rank</th>\n      <th>Team</th>\n      <th>GP</th>\n      <th>Won</th>\n      <th>Lost</th>\n      <th>Tied</th>\n      <th>Pct.</th>\n      <th>First NFL season</th>\n      <th>Division</th>\n    </tr>\n  </thead>\n  <tbody>\n    <tr>\n      <th>2</th>\n      <td>3</td>\n      <td>Baltimore Ravens</td>\n      <td>400</td>\n      <td>225</td>\n      <td>174</td>\n      <td>1</td>\n      <td>0.564</td>\n      <td>1996</td>\n      <td>AFC North</td>\n    </tr>\n    <tr>\n      <th>3</th>\n      <td>4</td>\n      <td>Chicago Bears</td>\n      <td>1,418</td>\n      <td>777</td>\n      <td>599</td>\n      <td>42</td>\n      <td>0.563</td>\n      <td>1920</td>\n      <td>NFC North</td>\n    </tr>\n    <tr>\n      <th>4</th>\n      <td>5</td>\n      <td>New England Patriots</td>\n      <td>932</td>\n      <td>519</td>\n      <td>404</td>\n      <td>9</td>\n      <td>0.562</td>\n      <td>1960</td>\n      <td>AFC East</td>\n    </tr>\n  </tbody>\n</table>\n</div>"
     },
     "metadata": {},
     "execution_count": 16
    }
   ],
   "source": [
    "# get last number of rows\n",
    "nfl_frame.tail(3)"
   ]
  },
  {
   "cell_type": "code",
   "execution_count": 19,
   "metadata": {},
   "outputs": [
    {
     "output_type": "execute_result",
     "data": {
      "text/plain": [
       "Rank                            4\n",
       "Team                Chicago Bears\n",
       "GP                          1,418\n",
       "Won                           777\n",
       "Lost                          599\n",
       "Tied                           42\n",
       "Pct.                        0.563\n",
       "First NFL season             1920\n",
       "Division                NFC North\n",
       "Name: 3, dtype: object"
      ]
     },
     "metadata": {},
     "execution_count": 19
    }
   ],
   "source": [
    "# grabing a row by index number\n",
    "nfl_frame.iloc[3]"
   ]
  },
  {
   "cell_type": "code",
   "execution_count": 20,
   "metadata": {},
   "outputs": [],
   "source": [
    "nfl_frame['Stadium'] = \"Levi's Stadium\""
   ]
  },
  {
   "cell_type": "code",
   "execution_count": 21,
   "metadata": {},
   "outputs": [
    {
     "output_type": "execute_result",
     "data": {
      "text/plain": [
       "   Rank                  Team  ...   Division         Stadium\n",
       "0     1     Green Bay Packers  ...  NFC North  Levi's Stadium\n",
       "1     2        Dallas Cowboys  ...   NFC East  Levi's Stadium\n",
       "2     3      Baltimore Ravens  ...  AFC North  Levi's Stadium\n",
       "3     4         Chicago Bears  ...  NFC North  Levi's Stadium\n",
       "4     5  New England Patriots  ...   AFC East  Levi's Stadium\n",
       "\n",
       "[5 rows x 10 columns]"
      ],
      "text/html": "<div>\n<style scoped>\n    .dataframe tbody tr th:only-of-type {\n        vertical-align: middle;\n    }\n\n    .dataframe tbody tr th {\n        vertical-align: top;\n    }\n\n    .dataframe thead th {\n        text-align: right;\n    }\n</style>\n<table border=\"1\" class=\"dataframe\">\n  <thead>\n    <tr style=\"text-align: right;\">\n      <th></th>\n      <th>Rank</th>\n      <th>Team</th>\n      <th>GP</th>\n      <th>Won</th>\n      <th>Lost</th>\n      <th>Tied</th>\n      <th>Pct.</th>\n      <th>First NFL season</th>\n      <th>Division</th>\n      <th>Stadium</th>\n    </tr>\n  </thead>\n  <tbody>\n    <tr>\n      <th>0</th>\n      <td>1</td>\n      <td>Green Bay Packers</td>\n      <td>1,384</td>\n      <td>769</td>\n      <td>577</td>\n      <td>38</td>\n      <td>0.569</td>\n      <td>1921</td>\n      <td>NFC North</td>\n      <td>Levi's Stadium</td>\n    </tr>\n    <tr>\n      <th>1</th>\n      <td>2</td>\n      <td>Dallas Cowboys</td>\n      <td>930</td>\n      <td>526</td>\n      <td>398</td>\n      <td>6</td>\n      <td>0.569</td>\n      <td>1960</td>\n      <td>NFC East</td>\n      <td>Levi's Stadium</td>\n    </tr>\n    <tr>\n      <th>2</th>\n      <td>3</td>\n      <td>Baltimore Ravens</td>\n      <td>400</td>\n      <td>225</td>\n      <td>174</td>\n      <td>1</td>\n      <td>0.564</td>\n      <td>1996</td>\n      <td>AFC North</td>\n      <td>Levi's Stadium</td>\n    </tr>\n    <tr>\n      <th>3</th>\n      <td>4</td>\n      <td>Chicago Bears</td>\n      <td>1,418</td>\n      <td>777</td>\n      <td>599</td>\n      <td>42</td>\n      <td>0.563</td>\n      <td>1920</td>\n      <td>NFC North</td>\n      <td>Levi's Stadium</td>\n    </tr>\n    <tr>\n      <th>4</th>\n      <td>5</td>\n      <td>New England Patriots</td>\n      <td>932</td>\n      <td>519</td>\n      <td>404</td>\n      <td>9</td>\n      <td>0.562</td>\n      <td>1960</td>\n      <td>AFC East</td>\n      <td>Levi's Stadium</td>\n    </tr>\n  </tbody>\n</table>\n</div>"
     },
     "metadata": {},
     "execution_count": 21
    }
   ],
   "source": [
    "nfl_frame"
   ]
  },
  {
   "cell_type": "code",
   "execution_count": 22,
   "metadata": {},
   "outputs": [],
   "source": [
    "nfl_frame['Stadium'] = np.arange(5)"
   ]
  },
  {
   "cell_type": "code",
   "execution_count": 23,
   "metadata": {},
   "outputs": [
    {
     "output_type": "execute_result",
     "data": {
      "text/plain": [
       "   Rank                  Team     GP  ...  First NFL season   Division  Stadium\n",
       "0     1     Green Bay Packers  1,384  ...              1921  NFC North        0\n",
       "1     2        Dallas Cowboys    930  ...              1960   NFC East        1\n",
       "2     3      Baltimore Ravens    400  ...              1996  AFC North        2\n",
       "3     4         Chicago Bears  1,418  ...              1920  NFC North        3\n",
       "4     5  New England Patriots    932  ...              1960   AFC East        4\n",
       "\n",
       "[5 rows x 10 columns]"
      ],
      "text/html": "<div>\n<style scoped>\n    .dataframe tbody tr th:only-of-type {\n        vertical-align: middle;\n    }\n\n    .dataframe tbody tr th {\n        vertical-align: top;\n    }\n\n    .dataframe thead th {\n        text-align: right;\n    }\n</style>\n<table border=\"1\" class=\"dataframe\">\n  <thead>\n    <tr style=\"text-align: right;\">\n      <th></th>\n      <th>Rank</th>\n      <th>Team</th>\n      <th>GP</th>\n      <th>Won</th>\n      <th>Lost</th>\n      <th>Tied</th>\n      <th>Pct.</th>\n      <th>First NFL season</th>\n      <th>Division</th>\n      <th>Stadium</th>\n    </tr>\n  </thead>\n  <tbody>\n    <tr>\n      <th>0</th>\n      <td>1</td>\n      <td>Green Bay Packers</td>\n      <td>1,384</td>\n      <td>769</td>\n      <td>577</td>\n      <td>38</td>\n      <td>0.569</td>\n      <td>1921</td>\n      <td>NFC North</td>\n      <td>0</td>\n    </tr>\n    <tr>\n      <th>1</th>\n      <td>2</td>\n      <td>Dallas Cowboys</td>\n      <td>930</td>\n      <td>526</td>\n      <td>398</td>\n      <td>6</td>\n      <td>0.569</td>\n      <td>1960</td>\n      <td>NFC East</td>\n      <td>1</td>\n    </tr>\n    <tr>\n      <th>2</th>\n      <td>3</td>\n      <td>Baltimore Ravens</td>\n      <td>400</td>\n      <td>225</td>\n      <td>174</td>\n      <td>1</td>\n      <td>0.564</td>\n      <td>1996</td>\n      <td>AFC North</td>\n      <td>2</td>\n    </tr>\n    <tr>\n      <th>3</th>\n      <td>4</td>\n      <td>Chicago Bears</td>\n      <td>1,418</td>\n      <td>777</td>\n      <td>599</td>\n      <td>42</td>\n      <td>0.563</td>\n      <td>1920</td>\n      <td>NFC North</td>\n      <td>3</td>\n    </tr>\n    <tr>\n      <th>4</th>\n      <td>5</td>\n      <td>New England Patriots</td>\n      <td>932</td>\n      <td>519</td>\n      <td>404</td>\n      <td>9</td>\n      <td>0.562</td>\n      <td>1960</td>\n      <td>AFC East</td>\n      <td>4</td>\n    </tr>\n  </tbody>\n</table>\n</div>"
     },
     "metadata": {},
     "execution_count": 23
    }
   ],
   "source": [
    "nfl_frame"
   ]
  },
  {
   "cell_type": "code",
   "execution_count": 24,
   "metadata": {},
   "outputs": [],
   "source": [
    "stadiums = Series([\"Levi's Stadium\", \"AT&T Stadium\"], index=[5,0])"
   ]
  },
  {
   "cell_type": "code",
   "execution_count": 25,
   "metadata": {},
   "outputs": [
    {
     "output_type": "execute_result",
     "data": {
      "text/plain": [
       "5    Levi's Stadium\n",
       "0      AT&T Stadium\n",
       "dtype: object"
      ]
     },
     "metadata": {},
     "execution_count": 25
    }
   ],
   "source": [
    "stadiums"
   ]
  },
  {
   "cell_type": "code",
   "execution_count": 26,
   "metadata": {},
   "outputs": [],
   "source": [
    "nfl_frame['Stadium'] = stadiums"
   ]
  },
  {
   "cell_type": "code",
   "execution_count": 27,
   "metadata": {},
   "outputs": [
    {
     "output_type": "execute_result",
     "data": {
      "text/plain": [
       "   Rank                  Team     GP  ...  First NFL season   Division       Stadium\n",
       "0     1     Green Bay Packers  1,384  ...              1921  NFC North  AT&T Stadium\n",
       "1     2        Dallas Cowboys    930  ...              1960   NFC East           NaN\n",
       "2     3      Baltimore Ravens    400  ...              1996  AFC North           NaN\n",
       "3     4         Chicago Bears  1,418  ...              1920  NFC North           NaN\n",
       "4     5  New England Patriots    932  ...              1960   AFC East           NaN\n",
       "\n",
       "[5 rows x 10 columns]"
      ],
      "text/html": "<div>\n<style scoped>\n    .dataframe tbody tr th:only-of-type {\n        vertical-align: middle;\n    }\n\n    .dataframe tbody tr th {\n        vertical-align: top;\n    }\n\n    .dataframe thead th {\n        text-align: right;\n    }\n</style>\n<table border=\"1\" class=\"dataframe\">\n  <thead>\n    <tr style=\"text-align: right;\">\n      <th></th>\n      <th>Rank</th>\n      <th>Team</th>\n      <th>GP</th>\n      <th>Won</th>\n      <th>Lost</th>\n      <th>Tied</th>\n      <th>Pct.</th>\n      <th>First NFL season</th>\n      <th>Division</th>\n      <th>Stadium</th>\n    </tr>\n  </thead>\n  <tbody>\n    <tr>\n      <th>0</th>\n      <td>1</td>\n      <td>Green Bay Packers</td>\n      <td>1,384</td>\n      <td>769</td>\n      <td>577</td>\n      <td>38</td>\n      <td>0.569</td>\n      <td>1921</td>\n      <td>NFC North</td>\n      <td>AT&amp;T Stadium</td>\n    </tr>\n    <tr>\n      <th>1</th>\n      <td>2</td>\n      <td>Dallas Cowboys</td>\n      <td>930</td>\n      <td>526</td>\n      <td>398</td>\n      <td>6</td>\n      <td>0.569</td>\n      <td>1960</td>\n      <td>NFC East</td>\n      <td>NaN</td>\n    </tr>\n    <tr>\n      <th>2</th>\n      <td>3</td>\n      <td>Baltimore Ravens</td>\n      <td>400</td>\n      <td>225</td>\n      <td>174</td>\n      <td>1</td>\n      <td>0.564</td>\n      <td>1996</td>\n      <td>AFC North</td>\n      <td>NaN</td>\n    </tr>\n    <tr>\n      <th>3</th>\n      <td>4</td>\n      <td>Chicago Bears</td>\n      <td>1,418</td>\n      <td>777</td>\n      <td>599</td>\n      <td>42</td>\n      <td>0.563</td>\n      <td>1920</td>\n      <td>NFC North</td>\n      <td>NaN</td>\n    </tr>\n    <tr>\n      <th>4</th>\n      <td>5</td>\n      <td>New England Patriots</td>\n      <td>932</td>\n      <td>519</td>\n      <td>404</td>\n      <td>9</td>\n      <td>0.562</td>\n      <td>1960</td>\n      <td>AFC East</td>\n      <td>NaN</td>\n    </tr>\n  </tbody>\n</table>\n</div>"
     },
     "metadata": {},
     "execution_count": 27
    }
   ],
   "source": [
    "nfl_frame"
   ]
  },
  {
   "cell_type": "code",
   "execution_count": 28,
   "metadata": {},
   "outputs": [],
   "source": [
    "# delete column\n",
    "del nfl_frame['Stadium']"
   ]
  },
  {
   "cell_type": "code",
   "execution_count": 29,
   "metadata": {},
   "outputs": [
    {
     "output_type": "execute_result",
     "data": {
      "text/plain": [
       "   Rank                  Team     GP  ...   Pct.  First NFL season   Division\n",
       "0     1     Green Bay Packers  1,384  ...  0.569              1921  NFC North\n",
       "1     2        Dallas Cowboys    930  ...  0.569              1960   NFC East\n",
       "2     3      Baltimore Ravens    400  ...  0.564              1996  AFC North\n",
       "3     4         Chicago Bears  1,418  ...  0.563              1920  NFC North\n",
       "4     5  New England Patriots    932  ...  0.562              1960   AFC East\n",
       "\n",
       "[5 rows x 9 columns]"
      ],
      "text/html": "<div>\n<style scoped>\n    .dataframe tbody tr th:only-of-type {\n        vertical-align: middle;\n    }\n\n    .dataframe tbody tr th {\n        vertical-align: top;\n    }\n\n    .dataframe thead th {\n        text-align: right;\n    }\n</style>\n<table border=\"1\" class=\"dataframe\">\n  <thead>\n    <tr style=\"text-align: right;\">\n      <th></th>\n      <th>Rank</th>\n      <th>Team</th>\n      <th>GP</th>\n      <th>Won</th>\n      <th>Lost</th>\n      <th>Tied</th>\n      <th>Pct.</th>\n      <th>First NFL season</th>\n      <th>Division</th>\n    </tr>\n  </thead>\n  <tbody>\n    <tr>\n      <th>0</th>\n      <td>1</td>\n      <td>Green Bay Packers</td>\n      <td>1,384</td>\n      <td>769</td>\n      <td>577</td>\n      <td>38</td>\n      <td>0.569</td>\n      <td>1921</td>\n      <td>NFC North</td>\n    </tr>\n    <tr>\n      <th>1</th>\n      <td>2</td>\n      <td>Dallas Cowboys</td>\n      <td>930</td>\n      <td>526</td>\n      <td>398</td>\n      <td>6</td>\n      <td>0.569</td>\n      <td>1960</td>\n      <td>NFC East</td>\n    </tr>\n    <tr>\n      <th>2</th>\n      <td>3</td>\n      <td>Baltimore Ravens</td>\n      <td>400</td>\n      <td>225</td>\n      <td>174</td>\n      <td>1</td>\n      <td>0.564</td>\n      <td>1996</td>\n      <td>AFC North</td>\n    </tr>\n    <tr>\n      <th>3</th>\n      <td>4</td>\n      <td>Chicago Bears</td>\n      <td>1,418</td>\n      <td>777</td>\n      <td>599</td>\n      <td>42</td>\n      <td>0.563</td>\n      <td>1920</td>\n      <td>NFC North</td>\n    </tr>\n    <tr>\n      <th>4</th>\n      <td>5</td>\n      <td>New England Patriots</td>\n      <td>932</td>\n      <td>519</td>\n      <td>404</td>\n      <td>9</td>\n      <td>0.562</td>\n      <td>1960</td>\n      <td>AFC East</td>\n    </tr>\n  </tbody>\n</table>\n</div>"
     },
     "metadata": {},
     "execution_count": 29
    }
   ],
   "source": [
    "nfl_frame"
   ]
  },
  {
   "cell_type": "code",
   "execution_count": 30,
   "metadata": {},
   "outputs": [],
   "source": [
    "data = {'City': ['SF', 'LA', 'NYC'], 'Population': [837000, 3880000, 8400000]}"
   ]
  },
  {
   "cell_type": "code",
   "execution_count": 31,
   "metadata": {},
   "outputs": [],
   "source": [
    "city_frame = DataFrame(data)"
   ]
  },
  {
   "cell_type": "code",
   "execution_count": 32,
   "metadata": {},
   "outputs": [
    {
     "output_type": "execute_result",
     "data": {
      "text/plain": [
       "  City  Population\n",
       "0   SF      837000\n",
       "1   LA     3880000\n",
       "2  NYC     8400000"
      ],
      "text/html": "<div>\n<style scoped>\n    .dataframe tbody tr th:only-of-type {\n        vertical-align: middle;\n    }\n\n    .dataframe tbody tr th {\n        vertical-align: top;\n    }\n\n    .dataframe thead th {\n        text-align: right;\n    }\n</style>\n<table border=\"1\" class=\"dataframe\">\n  <thead>\n    <tr style=\"text-align: right;\">\n      <th></th>\n      <th>City</th>\n      <th>Population</th>\n    </tr>\n  </thead>\n  <tbody>\n    <tr>\n      <th>0</th>\n      <td>SF</td>\n      <td>837000</td>\n    </tr>\n    <tr>\n      <th>1</th>\n      <td>LA</td>\n      <td>3880000</td>\n    </tr>\n    <tr>\n      <th>2</th>\n      <td>NYC</td>\n      <td>8400000</td>\n    </tr>\n  </tbody>\n</table>\n</div>"
     },
     "metadata": {},
     "execution_count": 32
    }
   ],
   "source": [
    "city_frame"
   ]
  },
  {
   "cell_type": "code",
   "execution_count": null,
   "metadata": {},
   "outputs": [],
   "source": []
  }
 ]
}