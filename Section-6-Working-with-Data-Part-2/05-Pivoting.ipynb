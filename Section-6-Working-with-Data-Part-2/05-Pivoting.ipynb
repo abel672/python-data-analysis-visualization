{
 "metadata": {
  "language_info": {
   "codemirror_mode": {
    "name": "ipython",
    "version": 3
   },
   "file_extension": ".py",
   "mimetype": "text/x-python",
   "name": "python",
   "nbconvert_exporter": "python",
   "pygments_lexer": "ipython3",
   "version": "3.7.4"
  },
  "orig_nbformat": 2,
  "kernelspec": {
   "name": "python374jvsc74a57bd0acddb2cf2bfa22fe258b0acfa21ff626a2f5af6cabd7b3bbd54a8c26bee74faa",
   "display_name": "Python 3.7.4 64-bit ('base': conda)"
  }
 },
 "nbformat": 4,
 "nbformat_minor": 2,
 "cells": [
  {
   "cell_type": "code",
   "execution_count": 1,
   "metadata": {},
   "outputs": [],
   "source": [
    "import numpy as np\n",
    "import pandas as pd\n",
    "from pandas import Series, DataFrame"
   ]
  },
  {
   "cell_type": "code",
   "execution_count": 2,
   "metadata": {},
   "outputs": [
    {
     "output_type": "stream",
     "name": "stderr",
     "text": [
      "ipykernel_launcher:2: FutureWarning: pandas.util.testing is deprecated. Use the functions in the public API at pandas.testing instead.\n"
     ]
    }
   ],
   "source": [
    "# import pandas testing utility\n",
    "import pandas.util.testing as tm; tm.N = 3\n",
    "\n",
    "# Create a unpivoted function\n",
    "def unpivot(frame):\n",
    "    N, K = frame.shape\n",
    "\n",
    "    data = {'value': frame.values.ravel('F'),\n",
    "            'variable': np.asarray(frame.columns).repeat(N),\n",
    "            'date': np.tile(np.asarray(frame.index), K)}\n",
    "    \n",
    "    # Return the DataFrame\n",
    "    return DataFrame(data, columns=['date', 'variable', 'value'])\n",
    "\n",
    "# Set the DataFrame we will be using\n",
    "dframe = unpivot(tm.makeTimeDataFrame())"
   ]
  },
  {
   "cell_type": "code",
   "execution_count": 3,
   "metadata": {},
   "outputs": [
    {
     "output_type": "execute_result",
     "data": {
      "text/plain": [
       "          date variable     value\n",
       "0   2000-01-03        A  0.959951\n",
       "1   2000-01-04        A  0.828314\n",
       "2   2000-01-05        A  1.485404\n",
       "3   2000-01-06        A  2.843975\n",
       "4   2000-01-07        A  1.668737\n",
       "..         ...      ...       ...\n",
       "115 2000-02-07        D -0.182030\n",
       "116 2000-02-08        D  1.186612\n",
       "117 2000-02-09        D -0.496430\n",
       "118 2000-02-10        D -1.192190\n",
       "119 2000-02-11        D  0.663685\n",
       "\n",
       "[120 rows x 3 columns]"
      ],
      "text/html": "<div>\n<style scoped>\n    .dataframe tbody tr th:only-of-type {\n        vertical-align: middle;\n    }\n\n    .dataframe tbody tr th {\n        vertical-align: top;\n    }\n\n    .dataframe thead th {\n        text-align: right;\n    }\n</style>\n<table border=\"1\" class=\"dataframe\">\n  <thead>\n    <tr style=\"text-align: right;\">\n      <th></th>\n      <th>date</th>\n      <th>variable</th>\n      <th>value</th>\n    </tr>\n  </thead>\n  <tbody>\n    <tr>\n      <th>0</th>\n      <td>2000-01-03</td>\n      <td>A</td>\n      <td>0.959951</td>\n    </tr>\n    <tr>\n      <th>1</th>\n      <td>2000-01-04</td>\n      <td>A</td>\n      <td>0.828314</td>\n    </tr>\n    <tr>\n      <th>2</th>\n      <td>2000-01-05</td>\n      <td>A</td>\n      <td>1.485404</td>\n    </tr>\n    <tr>\n      <th>3</th>\n      <td>2000-01-06</td>\n      <td>A</td>\n      <td>2.843975</td>\n    </tr>\n    <tr>\n      <th>4</th>\n      <td>2000-01-07</td>\n      <td>A</td>\n      <td>1.668737</td>\n    </tr>\n    <tr>\n      <th>...</th>\n      <td>...</td>\n      <td>...</td>\n      <td>...</td>\n    </tr>\n    <tr>\n      <th>115</th>\n      <td>2000-02-07</td>\n      <td>D</td>\n      <td>-0.182030</td>\n    </tr>\n    <tr>\n      <th>116</th>\n      <td>2000-02-08</td>\n      <td>D</td>\n      <td>1.186612</td>\n    </tr>\n    <tr>\n      <th>117</th>\n      <td>2000-02-09</td>\n      <td>D</td>\n      <td>-0.496430</td>\n    </tr>\n    <tr>\n      <th>118</th>\n      <td>2000-02-10</td>\n      <td>D</td>\n      <td>-1.192190</td>\n    </tr>\n    <tr>\n      <th>119</th>\n      <td>2000-02-11</td>\n      <td>D</td>\n      <td>0.663685</td>\n    </tr>\n  </tbody>\n</table>\n<p>120 rows × 3 columns</p>\n</div>"
     },
     "metadata": {},
     "execution_count": 3
    }
   ],
   "source": [
    "dframe"
   ]
  },
  {
   "cell_type": "code",
   "execution_count": 4,
   "metadata": {},
   "outputs": [],
   "source": [
    "dframe_piv = dframe.pivot('date','variable','value')"
   ]
  },
  {
   "cell_type": "code",
   "execution_count": 5,
   "metadata": {},
   "outputs": [
    {
     "output_type": "execute_result",
     "data": {
      "text/plain": [
       "variable           A         B         C         D\n",
       "date                                              \n",
       "2000-01-03  0.959951  0.171218  0.144120 -0.975888\n",
       "2000-01-04  0.828314 -0.507320 -0.476691 -0.848341\n",
       "2000-01-05  1.485404  0.799683 -0.585566 -1.082953\n",
       "2000-01-06  2.843975 -0.113570 -0.614572  0.227840\n",
       "2000-01-07  1.668737 -0.271571 -0.484047 -0.407861\n",
       "2000-01-10  0.779420 -1.603043 -0.233724  1.589259\n",
       "2000-01-11 -1.543943  2.204569 -0.903449  0.899854\n",
       "2000-01-12 -0.399162  0.176859  0.590857  1.527567\n",
       "2000-01-13  0.656320  0.403318 -0.218287 -0.862473\n",
       "2000-01-14  1.271792 -0.820371  1.250941  0.443158\n",
       "2000-01-17  0.486079 -1.406052  0.006468  0.587936\n",
       "2000-01-18 -1.590931  2.081408  0.109814 -0.006710\n",
       "2000-01-19  0.353558 -0.996633 -0.301049  0.820209\n",
       "2000-01-20  0.446907 -0.752017  0.552174  0.662530\n",
       "2000-01-21  1.089337  0.946431  1.117181  0.433103\n",
       "2000-01-24  1.232956 -0.329451  1.221163 -0.915664\n",
       "2000-01-25 -0.123742  0.405885  2.606803 -0.092901\n",
       "2000-01-26 -0.602988  1.021949  0.466800  1.922639\n",
       "2000-01-27  0.110003  0.269575 -1.180565 -2.165366\n",
       "2000-01-28  0.204736  0.429171  1.185494 -0.627235\n",
       "2000-01-31  1.379626  0.498266 -1.027237 -0.468071\n",
       "2000-02-01 -0.878405 -0.355146 -1.693489 -0.601650\n",
       "2000-02-02 -0.814674 -0.757140 -0.680695  0.887510\n",
       "2000-02-03  1.856846  0.184315  0.747841 -0.603536\n",
       "2000-02-04  2.386782  0.169078  0.569485 -0.250920\n",
       "2000-02-07 -0.012413  0.300450 -2.032686 -0.182030\n",
       "2000-02-08 -1.479939  1.946192  0.138756  1.186612\n",
       "2000-02-09  0.775136  0.793319 -0.399187 -0.496430\n",
       "2000-02-10  0.510196  0.006657 -0.646496 -1.192190\n",
       "2000-02-11  1.174729  0.417786  0.592129  0.663685"
      ],
      "text/html": "<div>\n<style scoped>\n    .dataframe tbody tr th:only-of-type {\n        vertical-align: middle;\n    }\n\n    .dataframe tbody tr th {\n        vertical-align: top;\n    }\n\n    .dataframe thead th {\n        text-align: right;\n    }\n</style>\n<table border=\"1\" class=\"dataframe\">\n  <thead>\n    <tr style=\"text-align: right;\">\n      <th>variable</th>\n      <th>A</th>\n      <th>B</th>\n      <th>C</th>\n      <th>D</th>\n    </tr>\n    <tr>\n      <th>date</th>\n      <th></th>\n      <th></th>\n      <th></th>\n      <th></th>\n    </tr>\n  </thead>\n  <tbody>\n    <tr>\n      <th>2000-01-03</th>\n      <td>0.959951</td>\n      <td>0.171218</td>\n      <td>0.144120</td>\n      <td>-0.975888</td>\n    </tr>\n    <tr>\n      <th>2000-01-04</th>\n      <td>0.828314</td>\n      <td>-0.507320</td>\n      <td>-0.476691</td>\n      <td>-0.848341</td>\n    </tr>\n    <tr>\n      <th>2000-01-05</th>\n      <td>1.485404</td>\n      <td>0.799683</td>\n      <td>-0.585566</td>\n      <td>-1.082953</td>\n    </tr>\n    <tr>\n      <th>2000-01-06</th>\n      <td>2.843975</td>\n      <td>-0.113570</td>\n      <td>-0.614572</td>\n      <td>0.227840</td>\n    </tr>\n    <tr>\n      <th>2000-01-07</th>\n      <td>1.668737</td>\n      <td>-0.271571</td>\n      <td>-0.484047</td>\n      <td>-0.407861</td>\n    </tr>\n    <tr>\n      <th>2000-01-10</th>\n      <td>0.779420</td>\n      <td>-1.603043</td>\n      <td>-0.233724</td>\n      <td>1.589259</td>\n    </tr>\n    <tr>\n      <th>2000-01-11</th>\n      <td>-1.543943</td>\n      <td>2.204569</td>\n      <td>-0.903449</td>\n      <td>0.899854</td>\n    </tr>\n    <tr>\n      <th>2000-01-12</th>\n      <td>-0.399162</td>\n      <td>0.176859</td>\n      <td>0.590857</td>\n      <td>1.527567</td>\n    </tr>\n    <tr>\n      <th>2000-01-13</th>\n      <td>0.656320</td>\n      <td>0.403318</td>\n      <td>-0.218287</td>\n      <td>-0.862473</td>\n    </tr>\n    <tr>\n      <th>2000-01-14</th>\n      <td>1.271792</td>\n      <td>-0.820371</td>\n      <td>1.250941</td>\n      <td>0.443158</td>\n    </tr>\n    <tr>\n      <th>2000-01-17</th>\n      <td>0.486079</td>\n      <td>-1.406052</td>\n      <td>0.006468</td>\n      <td>0.587936</td>\n    </tr>\n    <tr>\n      <th>2000-01-18</th>\n      <td>-1.590931</td>\n      <td>2.081408</td>\n      <td>0.109814</td>\n      <td>-0.006710</td>\n    </tr>\n    <tr>\n      <th>2000-01-19</th>\n      <td>0.353558</td>\n      <td>-0.996633</td>\n      <td>-0.301049</td>\n      <td>0.820209</td>\n    </tr>\n    <tr>\n      <th>2000-01-20</th>\n      <td>0.446907</td>\n      <td>-0.752017</td>\n      <td>0.552174</td>\n      <td>0.662530</td>\n    </tr>\n    <tr>\n      <th>2000-01-21</th>\n      <td>1.089337</td>\n      <td>0.946431</td>\n      <td>1.117181</td>\n      <td>0.433103</td>\n    </tr>\n    <tr>\n      <th>2000-01-24</th>\n      <td>1.232956</td>\n      <td>-0.329451</td>\n      <td>1.221163</td>\n      <td>-0.915664</td>\n    </tr>\n    <tr>\n      <th>2000-01-25</th>\n      <td>-0.123742</td>\n      <td>0.405885</td>\n      <td>2.606803</td>\n      <td>-0.092901</td>\n    </tr>\n    <tr>\n      <th>2000-01-26</th>\n      <td>-0.602988</td>\n      <td>1.021949</td>\n      <td>0.466800</td>\n      <td>1.922639</td>\n    </tr>\n    <tr>\n      <th>2000-01-27</th>\n      <td>0.110003</td>\n      <td>0.269575</td>\n      <td>-1.180565</td>\n      <td>-2.165366</td>\n    </tr>\n    <tr>\n      <th>2000-01-28</th>\n      <td>0.204736</td>\n      <td>0.429171</td>\n      <td>1.185494</td>\n      <td>-0.627235</td>\n    </tr>\n    <tr>\n      <th>2000-01-31</th>\n      <td>1.379626</td>\n      <td>0.498266</td>\n      <td>-1.027237</td>\n      <td>-0.468071</td>\n    </tr>\n    <tr>\n      <th>2000-02-01</th>\n      <td>-0.878405</td>\n      <td>-0.355146</td>\n      <td>-1.693489</td>\n      <td>-0.601650</td>\n    </tr>\n    <tr>\n      <th>2000-02-02</th>\n      <td>-0.814674</td>\n      <td>-0.757140</td>\n      <td>-0.680695</td>\n      <td>0.887510</td>\n    </tr>\n    <tr>\n      <th>2000-02-03</th>\n      <td>1.856846</td>\n      <td>0.184315</td>\n      <td>0.747841</td>\n      <td>-0.603536</td>\n    </tr>\n    <tr>\n      <th>2000-02-04</th>\n      <td>2.386782</td>\n      <td>0.169078</td>\n      <td>0.569485</td>\n      <td>-0.250920</td>\n    </tr>\n    <tr>\n      <th>2000-02-07</th>\n      <td>-0.012413</td>\n      <td>0.300450</td>\n      <td>-2.032686</td>\n      <td>-0.182030</td>\n    </tr>\n    <tr>\n      <th>2000-02-08</th>\n      <td>-1.479939</td>\n      <td>1.946192</td>\n      <td>0.138756</td>\n      <td>1.186612</td>\n    </tr>\n    <tr>\n      <th>2000-02-09</th>\n      <td>0.775136</td>\n      <td>0.793319</td>\n      <td>-0.399187</td>\n      <td>-0.496430</td>\n    </tr>\n    <tr>\n      <th>2000-02-10</th>\n      <td>0.510196</td>\n      <td>0.006657</td>\n      <td>-0.646496</td>\n      <td>-1.192190</td>\n    </tr>\n    <tr>\n      <th>2000-02-11</th>\n      <td>1.174729</td>\n      <td>0.417786</td>\n      <td>0.592129</td>\n      <td>0.663685</td>\n    </tr>\n  </tbody>\n</table>\n</div>"
     },
     "metadata": {},
     "execution_count": 5
    }
   ],
   "source": [
    "dframe_piv"
   ]
  },
  {
   "cell_type": "code",
   "execution_count": null,
   "metadata": {},
   "outputs": [],
   "source": []
  }
 ]
}