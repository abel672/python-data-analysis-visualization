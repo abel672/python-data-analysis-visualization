{
 "metadata": {
  "language_info": {
   "codemirror_mode": {
    "name": "ipython",
    "version": 3
   },
   "file_extension": ".py",
   "mimetype": "text/x-python",
   "name": "python",
   "nbconvert_exporter": "python",
   "pygments_lexer": "ipython3",
   "version": "3.7.4"
  },
  "orig_nbformat": 2,
  "kernelspec": {
   "name": "python374jvsc74a57bd0acddb2cf2bfa22fe258b0acfa21ff626a2f5af6cabd7b3bbd54a8c26bee74faa",
   "display_name": "Python 3.7.4 64-bit ('base': conda)"
  }
 },
 "nbformat": 4,
 "nbformat_minor": 2,
 "cells": [
  {
   "cell_type": "code",
   "execution_count": 3,
   "metadata": {},
   "outputs": [],
   "source": [
    "import numpy as np\n",
    "from pandas import Series, DataFrame\n",
    "import pandas as pd\n",
    "\n",
    "from numpy.random import randn"
   ]
  },
  {
   "cell_type": "code",
   "execution_count": 4,
   "metadata": {},
   "outputs": [
    {
     "output_type": "execute_result",
     "data": {
      "text/plain": [
       "A    1\n",
       "B    2\n",
       "C    3\n",
       "D    4\n",
       "dtype: int64"
      ]
     },
     "metadata": {},
     "execution_count": 4
    }
   ],
   "source": [
    "ser1 = Series([1,2,3,4], index = ['A', 'B', 'C', 'D'])\n",
    "\n",
    "ser1"
   ]
  },
  {
   "cell_type": "code",
   "execution_count": 5,
   "metadata": {},
   "outputs": [
    {
     "output_type": "execute_result",
     "data": {
      "text/plain": [
       "A    1.0\n",
       "B    2.0\n",
       "C    3.0\n",
       "D    4.0\n",
       "E    NaN\n",
       "F    NaN\n",
       "dtype: float64"
      ]
     },
     "metadata": {},
     "execution_count": 5
    }
   ],
   "source": [
    "ser2 = ser1.reindex(['A', 'B', 'C', 'D', 'E', 'F'])\n",
    "\n",
    "ser2"
   ]
  },
  {
   "cell_type": "code",
   "execution_count": 6,
   "metadata": {},
   "outputs": [
    {
     "output_type": "execute_result",
     "data": {
      "text/plain": [
       "A    1.0\n",
       "B    2.0\n",
       "C    3.0\n",
       "D    4.0\n",
       "E    NaN\n",
       "F    NaN\n",
       "G    0.0\n",
       "dtype: float64"
      ]
     },
     "metadata": {},
     "execution_count": 6
    }
   ],
   "source": [
    "# reindex with default value\n",
    "ser2.reindex(['A','B','C','D','E','F','G'], fill_value=0)"
   ]
  },
  {
   "cell_type": "code",
   "execution_count": 7,
   "metadata": {},
   "outputs": [
    {
     "output_type": "execute_result",
     "data": {
      "text/plain": [
       "0        USA\n",
       "5     Mexico\n",
       "10    Canada\n",
       "dtype: object"
      ]
     },
     "metadata": {},
     "execution_count": 7
    }
   ],
   "source": [
    "ser3 = Series(['USA','Mexico','Canada'], index=[0,5,10])\n",
    "\n",
    "ser3"
   ]
  },
  {
   "cell_type": "code",
   "execution_count": 8,
   "metadata": {},
   "outputs": [],
   "source": [
    "ranger = range(15)"
   ]
  },
  {
   "cell_type": "code",
   "execution_count": 9,
   "metadata": {},
   "outputs": [
    {
     "output_type": "execute_result",
     "data": {
      "text/plain": [
       "range(0, 15)"
      ]
     },
     "metadata": {},
     "execution_count": 9
    }
   ],
   "source": [
    "ranger"
   ]
  },
  {
   "cell_type": "code",
   "execution_count": 10,
   "metadata": {},
   "outputs": [
    {
     "output_type": "execute_result",
     "data": {
      "text/plain": [
       "0        USA\n",
       "1        USA\n",
       "2        USA\n",
       "3        USA\n",
       "4        USA\n",
       "5     Mexico\n",
       "6     Mexico\n",
       "7     Mexico\n",
       "8     Mexico\n",
       "9     Mexico\n",
       "10    Canada\n",
       "11    Canada\n",
       "12    Canada\n",
       "13    Canada\n",
       "14    Canada\n",
       "dtype: object"
      ]
     },
     "metadata": {},
     "execution_count": 10
    }
   ],
   "source": [
    "ser3.reindex(ranger, method='ffill')"
   ]
  },
  {
   "cell_type": "code",
   "execution_count": 11,
   "metadata": {},
   "outputs": [
    {
     "output_type": "execute_result",
     "data": {
      "text/plain": [
       "       col1      col2      col3      col4      col5\n",
       "A -0.051791  0.464825  1.269605  0.762023 -0.731169\n",
       "B  0.659083  0.959843 -1.114742 -1.247325 -1.367955\n",
       "C  1.827320  1.529949  0.289986  0.649293  0.220872\n",
       "D  0.796378  0.290514 -0.444078  1.626341 -0.336474\n",
       "E -0.725493  1.228364 -1.552208 -0.289589  1.431825"
      ],
      "text/html": "<div>\n<style scoped>\n    .dataframe tbody tr th:only-of-type {\n        vertical-align: middle;\n    }\n\n    .dataframe tbody tr th {\n        vertical-align: top;\n    }\n\n    .dataframe thead th {\n        text-align: right;\n    }\n</style>\n<table border=\"1\" class=\"dataframe\">\n  <thead>\n    <tr style=\"text-align: right;\">\n      <th></th>\n      <th>col1</th>\n      <th>col2</th>\n      <th>col3</th>\n      <th>col4</th>\n      <th>col5</th>\n    </tr>\n  </thead>\n  <tbody>\n    <tr>\n      <th>A</th>\n      <td>-0.051791</td>\n      <td>0.464825</td>\n      <td>1.269605</td>\n      <td>0.762023</td>\n      <td>-0.731169</td>\n    </tr>\n    <tr>\n      <th>B</th>\n      <td>0.659083</td>\n      <td>0.959843</td>\n      <td>-1.114742</td>\n      <td>-1.247325</td>\n      <td>-1.367955</td>\n    </tr>\n    <tr>\n      <th>C</th>\n      <td>1.827320</td>\n      <td>1.529949</td>\n      <td>0.289986</td>\n      <td>0.649293</td>\n      <td>0.220872</td>\n    </tr>\n    <tr>\n      <th>D</th>\n      <td>0.796378</td>\n      <td>0.290514</td>\n      <td>-0.444078</td>\n      <td>1.626341</td>\n      <td>-0.336474</td>\n    </tr>\n    <tr>\n      <th>E</th>\n      <td>-0.725493</td>\n      <td>1.228364</td>\n      <td>-1.552208</td>\n      <td>-0.289589</td>\n      <td>1.431825</td>\n    </tr>\n  </tbody>\n</table>\n</div>"
     },
     "metadata": {},
     "execution_count": 11
    }
   ],
   "source": [
    "dframe = DataFrame(randn(25).reshape((5,5)), index=['A', 'B', 'C', 'D', 'E'],\n",
    "                    columns=['col1','col2','col3','col4','col5'])\n",
    "\n",
    "dframe"
   ]
  },
  {
   "cell_type": "code",
   "execution_count": 12,
   "metadata": {},
   "outputs": [],
   "source": [
    "dframe2 = dframe.reindex(['A', 'B', 'C', 'D', 'E', 'F']) # reindex and adding a new index 'F'"
   ]
  },
  {
   "cell_type": "code",
   "execution_count": 13,
   "metadata": {},
   "outputs": [
    {
     "output_type": "execute_result",
     "data": {
      "text/plain": [
       "       col1      col2      col3      col4      col5\n",
       "A -0.051791  0.464825  1.269605  0.762023 -0.731169\n",
       "B  0.659083  0.959843 -1.114742 -1.247325 -1.367955\n",
       "C  1.827320  1.529949  0.289986  0.649293  0.220872\n",
       "D  0.796378  0.290514 -0.444078  1.626341 -0.336474\n",
       "E -0.725493  1.228364 -1.552208 -0.289589  1.431825\n",
       "F       NaN       NaN       NaN       NaN       NaN"
      ],
      "text/html": "<div>\n<style scoped>\n    .dataframe tbody tr th:only-of-type {\n        vertical-align: middle;\n    }\n\n    .dataframe tbody tr th {\n        vertical-align: top;\n    }\n\n    .dataframe thead th {\n        text-align: right;\n    }\n</style>\n<table border=\"1\" class=\"dataframe\">\n  <thead>\n    <tr style=\"text-align: right;\">\n      <th></th>\n      <th>col1</th>\n      <th>col2</th>\n      <th>col3</th>\n      <th>col4</th>\n      <th>col5</th>\n    </tr>\n  </thead>\n  <tbody>\n    <tr>\n      <th>A</th>\n      <td>-0.051791</td>\n      <td>0.464825</td>\n      <td>1.269605</td>\n      <td>0.762023</td>\n      <td>-0.731169</td>\n    </tr>\n    <tr>\n      <th>B</th>\n      <td>0.659083</td>\n      <td>0.959843</td>\n      <td>-1.114742</td>\n      <td>-1.247325</td>\n      <td>-1.367955</td>\n    </tr>\n    <tr>\n      <th>C</th>\n      <td>1.827320</td>\n      <td>1.529949</td>\n      <td>0.289986</td>\n      <td>0.649293</td>\n      <td>0.220872</td>\n    </tr>\n    <tr>\n      <th>D</th>\n      <td>0.796378</td>\n      <td>0.290514</td>\n      <td>-0.444078</td>\n      <td>1.626341</td>\n      <td>-0.336474</td>\n    </tr>\n    <tr>\n      <th>E</th>\n      <td>-0.725493</td>\n      <td>1.228364</td>\n      <td>-1.552208</td>\n      <td>-0.289589</td>\n      <td>1.431825</td>\n    </tr>\n    <tr>\n      <th>F</th>\n      <td>NaN</td>\n      <td>NaN</td>\n      <td>NaN</td>\n      <td>NaN</td>\n      <td>NaN</td>\n    </tr>\n  </tbody>\n</table>\n</div>"
     },
     "metadata": {},
     "execution_count": 13
    }
   ],
   "source": [
    "dframe2"
   ]
  },
  {
   "cell_type": "code",
   "execution_count": 19,
   "metadata": {},
   "outputs": [],
   "source": [
    "new_columns = ['col1', 'col2', 'col3', 'col4', 'col5']"
   ]
  },
  {
   "cell_type": "code",
   "execution_count": 20,
   "metadata": {},
   "outputs": [
    {
     "output_type": "execute_result",
     "data": {
      "text/plain": [
       "       col1      col2      col3      col4      col5\n",
       "A -0.051791  0.464825  1.269605  0.762023 -0.731169\n",
       "B  0.659083  0.959843 -1.114742 -1.247325 -1.367955\n",
       "C  1.827320  1.529949  0.289986  0.649293  0.220872\n",
       "D  0.796378  0.290514 -0.444078  1.626341 -0.336474\n",
       "E -0.725493  1.228364 -1.552208 -0.289589  1.431825\n",
       "F       NaN       NaN       NaN       NaN       NaN"
      ],
      "text/html": "<div>\n<style scoped>\n    .dataframe tbody tr th:only-of-type {\n        vertical-align: middle;\n    }\n\n    .dataframe tbody tr th {\n        vertical-align: top;\n    }\n\n    .dataframe thead th {\n        text-align: right;\n    }\n</style>\n<table border=\"1\" class=\"dataframe\">\n  <thead>\n    <tr style=\"text-align: right;\">\n      <th></th>\n      <th>col1</th>\n      <th>col2</th>\n      <th>col3</th>\n      <th>col4</th>\n      <th>col5</th>\n    </tr>\n  </thead>\n  <tbody>\n    <tr>\n      <th>A</th>\n      <td>-0.051791</td>\n      <td>0.464825</td>\n      <td>1.269605</td>\n      <td>0.762023</td>\n      <td>-0.731169</td>\n    </tr>\n    <tr>\n      <th>B</th>\n      <td>0.659083</td>\n      <td>0.959843</td>\n      <td>-1.114742</td>\n      <td>-1.247325</td>\n      <td>-1.367955</td>\n    </tr>\n    <tr>\n      <th>C</th>\n      <td>1.827320</td>\n      <td>1.529949</td>\n      <td>0.289986</td>\n      <td>0.649293</td>\n      <td>0.220872</td>\n    </tr>\n    <tr>\n      <th>D</th>\n      <td>0.796378</td>\n      <td>0.290514</td>\n      <td>-0.444078</td>\n      <td>1.626341</td>\n      <td>-0.336474</td>\n    </tr>\n    <tr>\n      <th>E</th>\n      <td>-0.725493</td>\n      <td>1.228364</td>\n      <td>-1.552208</td>\n      <td>-0.289589</td>\n      <td>1.431825</td>\n    </tr>\n    <tr>\n      <th>F</th>\n      <td>NaN</td>\n      <td>NaN</td>\n      <td>NaN</td>\n      <td>NaN</td>\n      <td>NaN</td>\n    </tr>\n  </tbody>\n</table>\n</div>"
     },
     "metadata": {},
     "execution_count": 20
    }
   ],
   "source": [
    "dframe2.reindex(columns=new_columns)"
   ]
  },
  {
   "cell_type": "code",
   "execution_count": 21,
   "metadata": {},
   "outputs": [
    {
     "output_type": "execute_result",
     "data": {
      "text/plain": [
       "       col1      col2      col3      col4      col5\n",
       "A -0.051791  0.464825  1.269605  0.762023 -0.731169\n",
       "B  0.659083  0.959843 -1.114742 -1.247325 -1.367955\n",
       "C  1.827320  1.529949  0.289986  0.649293  0.220872\n",
       "D  0.796378  0.290514 -0.444078  1.626341 -0.336474\n",
       "E -0.725493  1.228364 -1.552208 -0.289589  1.431825"
      ],
      "text/html": "<div>\n<style scoped>\n    .dataframe tbody tr th:only-of-type {\n        vertical-align: middle;\n    }\n\n    .dataframe tbody tr th {\n        vertical-align: top;\n    }\n\n    .dataframe thead th {\n        text-align: right;\n    }\n</style>\n<table border=\"1\" class=\"dataframe\">\n  <thead>\n    <tr style=\"text-align: right;\">\n      <th></th>\n      <th>col1</th>\n      <th>col2</th>\n      <th>col3</th>\n      <th>col4</th>\n      <th>col5</th>\n    </tr>\n  </thead>\n  <tbody>\n    <tr>\n      <th>A</th>\n      <td>-0.051791</td>\n      <td>0.464825</td>\n      <td>1.269605</td>\n      <td>0.762023</td>\n      <td>-0.731169</td>\n    </tr>\n    <tr>\n      <th>B</th>\n      <td>0.659083</td>\n      <td>0.959843</td>\n      <td>-1.114742</td>\n      <td>-1.247325</td>\n      <td>-1.367955</td>\n    </tr>\n    <tr>\n      <th>C</th>\n      <td>1.827320</td>\n      <td>1.529949</td>\n      <td>0.289986</td>\n      <td>0.649293</td>\n      <td>0.220872</td>\n    </tr>\n    <tr>\n      <th>D</th>\n      <td>0.796378</td>\n      <td>0.290514</td>\n      <td>-0.444078</td>\n      <td>1.626341</td>\n      <td>-0.336474</td>\n    </tr>\n    <tr>\n      <th>E</th>\n      <td>-0.725493</td>\n      <td>1.228364</td>\n      <td>-1.552208</td>\n      <td>-0.289589</td>\n      <td>1.431825</td>\n    </tr>\n  </tbody>\n</table>\n</div>"
     },
     "metadata": {},
     "execution_count": 21
    }
   ],
   "source": [
    "dframe"
   ]
  },
  {
   "cell_type": "code",
   "execution_count": 23,
   "metadata": {},
   "outputs": [
    {
     "output_type": "execute_result",
     "data": {
      "text/plain": [
       "       col1      col2      col3      col4      col5\n",
       "A -0.051791  0.464825  1.269605  0.762023 -0.731169\n",
       "B  0.659083  0.959843 -1.114742 -1.247325 -1.367955\n",
       "C  1.827320  1.529949  0.289986  0.649293  0.220872\n",
       "D  0.796378  0.290514 -0.444078  1.626341 -0.336474\n",
       "E -0.725493  1.228364 -1.552208 -0.289589  1.431825"
      ],
      "text/html": "<div>\n<style scoped>\n    .dataframe tbody tr th:only-of-type {\n        vertical-align: middle;\n    }\n\n    .dataframe tbody tr th {\n        vertical-align: top;\n    }\n\n    .dataframe thead th {\n        text-align: right;\n    }\n</style>\n<table border=\"1\" class=\"dataframe\">\n  <thead>\n    <tr style=\"text-align: right;\">\n      <th></th>\n      <th>col1</th>\n      <th>col2</th>\n      <th>col3</th>\n      <th>col4</th>\n      <th>col5</th>\n    </tr>\n  </thead>\n  <tbody>\n    <tr>\n      <th>A</th>\n      <td>-0.051791</td>\n      <td>0.464825</td>\n      <td>1.269605</td>\n      <td>0.762023</td>\n      <td>-0.731169</td>\n    </tr>\n    <tr>\n      <th>B</th>\n      <td>0.659083</td>\n      <td>0.959843</td>\n      <td>-1.114742</td>\n      <td>-1.247325</td>\n      <td>-1.367955</td>\n    </tr>\n    <tr>\n      <th>C</th>\n      <td>1.827320</td>\n      <td>1.529949</td>\n      <td>0.289986</td>\n      <td>0.649293</td>\n      <td>0.220872</td>\n    </tr>\n    <tr>\n      <th>D</th>\n      <td>0.796378</td>\n      <td>0.290514</td>\n      <td>-0.444078</td>\n      <td>1.626341</td>\n      <td>-0.336474</td>\n    </tr>\n    <tr>\n      <th>E</th>\n      <td>-0.725493</td>\n      <td>1.228364</td>\n      <td>-1.552208</td>\n      <td>-0.289589</td>\n      <td>1.431825</td>\n    </tr>\n  </tbody>\n</table>\n</div>"
     },
     "metadata": {},
     "execution_count": 23
    }
   ],
   "source": [
    "# dframe.ix[['A', 'B', 'C', 'D', 'E', 'F'], new_columns] # deprecated\n",
    "dframe.loc[['A', 'B', 'C', 'D', 'E'], new_columns] # new version"
   ]
  },
  {
   "cell_type": "code",
   "execution_count": null,
   "metadata": {},
   "outputs": [],
   "source": []
  }
 ]
}