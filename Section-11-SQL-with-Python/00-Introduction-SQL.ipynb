{
 "cells": [
  {
   "cell_type": "markdown",
   "metadata": {},
   "source": [
    "[Notebook](https://github.com/jmportilla/SQL-Appendix/blob/master/Introduction%20to%20SQL%20with%20Python.ipynb)"
   ]
  },
  {
   "cell_type": "code",
   "execution_count": 1,
   "metadata": {},
   "outputs": [],
   "source": [
    "# Imports\n",
    "import sqlite3\n",
    "import pandas as pd"
   ]
  },
  {
   "cell_type": "code",
   "execution_count": 2,
   "metadata": {},
   "outputs": [],
   "source": [
    "# create connection with DB\n",
    "con = sqlite3.connect('sakila.db')"
   ]
  },
  {
   "cell_type": "code",
   "execution_count": 4,
   "metadata": {},
   "outputs": [
    {
     "data": {
      "text/html": [
       "<div>\n",
       "<style scoped>\n",
       "    .dataframe tbody tr th:only-of-type {\n",
       "        vertical-align: middle;\n",
       "    }\n",
       "\n",
       "    .dataframe tbody tr th {\n",
       "        vertical-align: top;\n",
       "    }\n",
       "\n",
       "    .dataframe thead th {\n",
       "        text-align: right;\n",
       "    }\n",
       "</style>\n",
       "<table border=\"1\" class=\"dataframe\">\n",
       "  <thead>\n",
       "    <tr style=\"text-align: right;\">\n",
       "      <th></th>\n",
       "      <th>customer_id</th>\n",
       "      <th>store_id</th>\n",
       "      <th>first_name</th>\n",
       "      <th>last_name</th>\n",
       "      <th>email</th>\n",
       "      <th>address_id</th>\n",
       "      <th>active</th>\n",
       "      <th>create_date</th>\n",
       "      <th>last_update</th>\n",
       "    </tr>\n",
       "  </thead>\n",
       "  <tbody>\n",
       "    <tr>\n",
       "      <th>0</th>\n",
       "      <td>1</td>\n",
       "      <td>1</td>\n",
       "      <td>MARY</td>\n",
       "      <td>SMITH</td>\n",
       "      <td>MARY.SMITH@sakilacustomer.org</td>\n",
       "      <td>5</td>\n",
       "      <td>1</td>\n",
       "      <td>2006-02-14 22:04:36.000</td>\n",
       "      <td>2011-09-14 18:10:28</td>\n",
       "    </tr>\n",
       "    <tr>\n",
       "      <th>1</th>\n",
       "      <td>2</td>\n",
       "      <td>1</td>\n",
       "      <td>PATRICIA</td>\n",
       "      <td>JOHNSON</td>\n",
       "      <td>PATRICIA.JOHNSON@sakilacustomer.org</td>\n",
       "      <td>6</td>\n",
       "      <td>1</td>\n",
       "      <td>2006-02-14 22:04:36.000</td>\n",
       "      <td>2011-09-14 18:10:28</td>\n",
       "    </tr>\n",
       "    <tr>\n",
       "      <th>2</th>\n",
       "      <td>3</td>\n",
       "      <td>1</td>\n",
       "      <td>LINDA</td>\n",
       "      <td>WILLIAMS</td>\n",
       "      <td>LINDA.WILLIAMS@sakilacustomer.org</td>\n",
       "      <td>7</td>\n",
       "      <td>1</td>\n",
       "      <td>2006-02-14 22:04:36.000</td>\n",
       "      <td>2011-09-14 18:10:28</td>\n",
       "    </tr>\n",
       "    <tr>\n",
       "      <th>3</th>\n",
       "      <td>4</td>\n",
       "      <td>2</td>\n",
       "      <td>BARBARA</td>\n",
       "      <td>JONES</td>\n",
       "      <td>BARBARA.JONES@sakilacustomer.org</td>\n",
       "      <td>8</td>\n",
       "      <td>1</td>\n",
       "      <td>2006-02-14 22:04:36.000</td>\n",
       "      <td>2011-09-14 18:10:28</td>\n",
       "    </tr>\n",
       "    <tr>\n",
       "      <th>4</th>\n",
       "      <td>5</td>\n",
       "      <td>1</td>\n",
       "      <td>ELIZABETH</td>\n",
       "      <td>BROWN</td>\n",
       "      <td>ELIZABETH.BROWN@sakilacustomer.org</td>\n",
       "      <td>9</td>\n",
       "      <td>1</td>\n",
       "      <td>2006-02-14 22:04:36.000</td>\n",
       "      <td>2011-09-14 18:10:28</td>\n",
       "    </tr>\n",
       "  </tbody>\n",
       "</table>\n",
       "</div>"
      ],
      "text/plain": [
       "   customer_id  store_id first_name last_name  \\\n",
       "0            1         1       MARY     SMITH   \n",
       "1            2         1   PATRICIA   JOHNSON   \n",
       "2            3         1      LINDA  WILLIAMS   \n",
       "3            4         2    BARBARA     JONES   \n",
       "4            5         1  ELIZABETH     BROWN   \n",
       "\n",
       "                                 email  address_id active  \\\n",
       "0        MARY.SMITH@sakilacustomer.org           5      1   \n",
       "1  PATRICIA.JOHNSON@sakilacustomer.org           6      1   \n",
       "2    LINDA.WILLIAMS@sakilacustomer.org           7      1   \n",
       "3     BARBARA.JONES@sakilacustomer.org           8      1   \n",
       "4   ELIZABETH.BROWN@sakilacustomer.org           9      1   \n",
       "\n",
       "               create_date          last_update  \n",
       "0  2006-02-14 22:04:36.000  2011-09-14 18:10:28  \n",
       "1  2006-02-14 22:04:36.000  2011-09-14 18:10:28  \n",
       "2  2006-02-14 22:04:36.000  2011-09-14 18:10:28  \n",
       "3  2006-02-14 22:04:36.000  2011-09-14 18:10:28  \n",
       "4  2006-02-14 22:04:36.000  2011-09-14 18:10:28  "
      ]
     },
     "execution_count": 4,
     "metadata": {},
     "output_type": "execute_result"
    }
   ],
   "source": [
    "# Create query\n",
    "sql_query = '''SELECT * FROM customer'''\n",
    "\n",
    "# Perform query with pandas and add results into a DataFrame\n",
    "df = pd.read_sql(sql_query, con)\n",
    "\n",
    "# Results\n",
    "df.head()"
   ]
  },
  {
   "cell_type": "code",
   "execution_count": null,
   "metadata": {},
   "outputs": [],
   "source": []
  }
 ],
 "metadata": {
  "interpreter": {
   "hash": "e39a0c7faa510b0f53a3ebe396e528d1555f32e92f6931e3a223e579733b4028"
  },
  "kernelspec": {
   "display_name": "Python 3.7.4 64-bit ('base': conda)",
   "name": "python3"
  },
  "language_info": {
   "codemirror_mode": {
    "name": "ipython",
    "version": 3
   },
   "file_extension": ".py",
   "mimetype": "text/x-python",
   "name": "python",
   "nbconvert_exporter": "python",
   "pygments_lexer": "ipython3",
   "version": "3.7.4"
  },
  "orig_nbformat": 4
 },
 "nbformat": 4,
 "nbformat_minor": 2
}
