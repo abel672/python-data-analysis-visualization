{
 "metadata": {
  "language_info": {
   "codemirror_mode": {
    "name": "ipython",
    "version": 3
   },
   "file_extension": ".py",
   "mimetype": "text/x-python",
   "name": "python",
   "nbconvert_exporter": "python",
   "pygments_lexer": "ipython3",
   "version": "3.7.9"
  },
  "orig_nbformat": 2,
  "kernelspec": {
   "name": "python379jvsc74a57bd0875f0c966a9cda364b690d995a6508977f10b76c53e6f4415bd3672e46a4e9dd",
   "display_name": "Python 3.7.9 64-bit ('nlp_course': conda)"
  }
 },
 "nbformat": 4,
 "nbformat_minor": 2,
 "cells": [
  {
   "cell_type": "code",
   "execution_count": 1,
   "metadata": {},
   "outputs": [],
   "source": [
    "import numpy as np\n",
    "import pandas as pd\n",
    "from pandas import DataFrame, Series"
   ]
  },
  {
   "cell_type": "code",
   "execution_count": 2,
   "metadata": {},
   "outputs": [
    {
     "output_type": "execute_result",
     "data": {
      "text/plain": [
       "  k1     k2  dataset1  dataset2\n",
       "0  X  alpha  0.323534  1.681680\n",
       "1  X   beta  0.805800 -0.326655\n",
       "2  Y  alpha  0.463298  0.068401\n",
       "3  Y   beta -0.738612  1.441916\n",
       "4  Z  alpha -0.010504 -0.244040"
      ],
      "text/html": "<div>\n<style scoped>\n    .dataframe tbody tr th:only-of-type {\n        vertical-align: middle;\n    }\n\n    .dataframe tbody tr th {\n        vertical-align: top;\n    }\n\n    .dataframe thead th {\n        text-align: right;\n    }\n</style>\n<table border=\"1\" class=\"dataframe\">\n  <thead>\n    <tr style=\"text-align: right;\">\n      <th></th>\n      <th>k1</th>\n      <th>k2</th>\n      <th>dataset1</th>\n      <th>dataset2</th>\n    </tr>\n  </thead>\n  <tbody>\n    <tr>\n      <th>0</th>\n      <td>X</td>\n      <td>alpha</td>\n      <td>0.323534</td>\n      <td>1.681680</td>\n    </tr>\n    <tr>\n      <th>1</th>\n      <td>X</td>\n      <td>beta</td>\n      <td>0.805800</td>\n      <td>-0.326655</td>\n    </tr>\n    <tr>\n      <th>2</th>\n      <td>Y</td>\n      <td>alpha</td>\n      <td>0.463298</td>\n      <td>0.068401</td>\n    </tr>\n    <tr>\n      <th>3</th>\n      <td>Y</td>\n      <td>beta</td>\n      <td>-0.738612</td>\n      <td>1.441916</td>\n    </tr>\n    <tr>\n      <th>4</th>\n      <td>Z</td>\n      <td>alpha</td>\n      <td>-0.010504</td>\n      <td>-0.244040</td>\n    </tr>\n  </tbody>\n</table>\n</div>"
     },
     "metadata": {},
     "execution_count": 2
    }
   ],
   "source": [
    "dframe = DataFrame({'k1':['X','X','Y','Y','Z'],\n",
    "                    'k2':['alpha','beta','alpha','beta','alpha'],\n",
    "                    'dataset1':np.random.randn(5),\n",
    "                    'dataset2':np.random.randn(5)})\n",
    "\n",
    "dframe"
   ]
  },
  {
   "cell_type": "code",
   "execution_count": 3,
   "metadata": {},
   "outputs": [],
   "source": [
    "group1 = dframe['dataset1'].groupby(dframe['k1'])"
   ]
  },
  {
   "cell_type": "code",
   "execution_count": 4,
   "metadata": {},
   "outputs": [
    {
     "output_type": "execute_result",
     "data": {
      "text/plain": [
       "<pandas.core.groupby.groupby.SeriesGroupBy object at 0x1149b9810>"
      ]
     },
     "metadata": {},
     "execution_count": 4
    }
   ],
   "source": [
    "group1"
   ]
  },
  {
   "cell_type": "code",
   "execution_count": 5,
   "metadata": {},
   "outputs": [
    {
     "output_type": "execute_result",
     "data": {
      "text/plain": [
       "k1\n",
       "X    0.564667\n",
       "Y   -0.137657\n",
       "Z   -0.010504\n",
       "Name: dataset1, dtype: float64"
      ]
     },
     "metadata": {},
     "execution_count": 5
    }
   ],
   "source": [
    "group1.mean()"
   ]
  },
  {
   "cell_type": "code",
   "execution_count": 6,
   "metadata": {},
   "outputs": [],
   "source": [
    "cities = np.array(['NY','LA','LA','NY','NY'])\n",
    "\n",
    "month = np.array(['JAN','FEB','JAN','FEB','JAN'])"
   ]
  },
  {
   "cell_type": "code",
   "execution_count": 7,
   "metadata": {},
   "outputs": [
    {
     "output_type": "execute_result",
     "data": {
      "text/plain": [
       "LA  FEB    0.805800\n",
       "    JAN    0.463298\n",
       "NY  FEB   -0.738612\n",
       "    JAN    0.156515\n",
       "Name: dataset1, dtype: float64"
      ]
     },
     "metadata": {},
     "execution_count": 7
    }
   ],
   "source": [
    "dframe['dataset1'].groupby([cities,month]).mean()"
   ]
  },
  {
   "cell_type": "code",
   "execution_count": 8,
   "metadata": {},
   "outputs": [
    {
     "output_type": "execute_result",
     "data": {
      "text/plain": [
       "  k1     k2  dataset1  dataset2\n",
       "0  X  alpha  0.323534  1.681680\n",
       "1  X   beta  0.805800 -0.326655\n",
       "2  Y  alpha  0.463298  0.068401\n",
       "3  Y   beta -0.738612  1.441916\n",
       "4  Z  alpha -0.010504 -0.244040"
      ],
      "text/html": "<div>\n<style scoped>\n    .dataframe tbody tr th:only-of-type {\n        vertical-align: middle;\n    }\n\n    .dataframe tbody tr th {\n        vertical-align: top;\n    }\n\n    .dataframe thead th {\n        text-align: right;\n    }\n</style>\n<table border=\"1\" class=\"dataframe\">\n  <thead>\n    <tr style=\"text-align: right;\">\n      <th></th>\n      <th>k1</th>\n      <th>k2</th>\n      <th>dataset1</th>\n      <th>dataset2</th>\n    </tr>\n  </thead>\n  <tbody>\n    <tr>\n      <th>0</th>\n      <td>X</td>\n      <td>alpha</td>\n      <td>0.323534</td>\n      <td>1.681680</td>\n    </tr>\n    <tr>\n      <th>1</th>\n      <td>X</td>\n      <td>beta</td>\n      <td>0.805800</td>\n      <td>-0.326655</td>\n    </tr>\n    <tr>\n      <th>2</th>\n      <td>Y</td>\n      <td>alpha</td>\n      <td>0.463298</td>\n      <td>0.068401</td>\n    </tr>\n    <tr>\n      <th>3</th>\n      <td>Y</td>\n      <td>beta</td>\n      <td>-0.738612</td>\n      <td>1.441916</td>\n    </tr>\n    <tr>\n      <th>4</th>\n      <td>Z</td>\n      <td>alpha</td>\n      <td>-0.010504</td>\n      <td>-0.244040</td>\n    </tr>\n  </tbody>\n</table>\n</div>"
     },
     "metadata": {},
     "execution_count": 8
    }
   ],
   "source": [
    "dframe"
   ]
  },
  {
   "cell_type": "code",
   "execution_count": 9,
   "metadata": {},
   "outputs": [
    {
     "output_type": "execute_result",
     "data": {
      "text/plain": [
       "    dataset1  dataset2\n",
       "k1                    \n",
       "X   0.564667  0.677513\n",
       "Y  -0.137657  0.755158\n",
       "Z  -0.010504 -0.244040"
      ],
      "text/html": "<div>\n<style scoped>\n    .dataframe tbody tr th:only-of-type {\n        vertical-align: middle;\n    }\n\n    .dataframe tbody tr th {\n        vertical-align: top;\n    }\n\n    .dataframe thead th {\n        text-align: right;\n    }\n</style>\n<table border=\"1\" class=\"dataframe\">\n  <thead>\n    <tr style=\"text-align: right;\">\n      <th></th>\n      <th>dataset1</th>\n      <th>dataset2</th>\n    </tr>\n    <tr>\n      <th>k1</th>\n      <th></th>\n      <th></th>\n    </tr>\n  </thead>\n  <tbody>\n    <tr>\n      <th>X</th>\n      <td>0.564667</td>\n      <td>0.677513</td>\n    </tr>\n    <tr>\n      <th>Y</th>\n      <td>-0.137657</td>\n      <td>0.755158</td>\n    </tr>\n    <tr>\n      <th>Z</th>\n      <td>-0.010504</td>\n      <td>-0.244040</td>\n    </tr>\n  </tbody>\n</table>\n</div>"
     },
     "metadata": {},
     "execution_count": 9
    }
   ],
   "source": [
    "dframe.groupby('k1').mean()"
   ]
  },
  {
   "cell_type": "code",
   "execution_count": 10,
   "metadata": {},
   "outputs": [
    {
     "output_type": "execute_result",
     "data": {
      "text/plain": [
       "          dataset1  dataset2\n",
       "k1 k2                       \n",
       "X  alpha  0.323534  1.681680\n",
       "   beta   0.805800 -0.326655\n",
       "Y  alpha  0.463298  0.068401\n",
       "   beta  -0.738612  1.441916\n",
       "Z  alpha -0.010504 -0.244040"
      ],
      "text/html": "<div>\n<style scoped>\n    .dataframe tbody tr th:only-of-type {\n        vertical-align: middle;\n    }\n\n    .dataframe tbody tr th {\n        vertical-align: top;\n    }\n\n    .dataframe thead th {\n        text-align: right;\n    }\n</style>\n<table border=\"1\" class=\"dataframe\">\n  <thead>\n    <tr style=\"text-align: right;\">\n      <th></th>\n      <th></th>\n      <th>dataset1</th>\n      <th>dataset2</th>\n    </tr>\n    <tr>\n      <th>k1</th>\n      <th>k2</th>\n      <th></th>\n      <th></th>\n    </tr>\n  </thead>\n  <tbody>\n    <tr>\n      <th rowspan=\"2\" valign=\"top\">X</th>\n      <th>alpha</th>\n      <td>0.323534</td>\n      <td>1.681680</td>\n    </tr>\n    <tr>\n      <th>beta</th>\n      <td>0.805800</td>\n      <td>-0.326655</td>\n    </tr>\n    <tr>\n      <th rowspan=\"2\" valign=\"top\">Y</th>\n      <th>alpha</th>\n      <td>0.463298</td>\n      <td>0.068401</td>\n    </tr>\n    <tr>\n      <th>beta</th>\n      <td>-0.738612</td>\n      <td>1.441916</td>\n    </tr>\n    <tr>\n      <th>Z</th>\n      <th>alpha</th>\n      <td>-0.010504</td>\n      <td>-0.244040</td>\n    </tr>\n  </tbody>\n</table>\n</div>"
     },
     "metadata": {},
     "execution_count": 10
    }
   ],
   "source": [
    "dframe.groupby(['k1','k2']).mean()"
   ]
  },
  {
   "cell_type": "code",
   "execution_count": 11,
   "metadata": {},
   "outputs": [
    {
     "output_type": "execute_result",
     "data": {
      "text/plain": [
       "k1\n",
       "X    2\n",
       "Y    2\n",
       "Z    1\n",
       "dtype: int64"
      ]
     },
     "metadata": {},
     "execution_count": 11
    }
   ],
   "source": [
    "dframe.groupby(['k1']).size()"
   ]
  },
  {
   "cell_type": "code",
   "execution_count": 12,
   "metadata": {},
   "outputs": [
    {
     "output_type": "execute_result",
     "data": {
      "text/plain": [
       "  k1     k2  dataset1  dataset2\n",
       "0  X  alpha  0.323534  1.681680\n",
       "1  X   beta  0.805800 -0.326655\n",
       "2  Y  alpha  0.463298  0.068401\n",
       "3  Y   beta -0.738612  1.441916\n",
       "4  Z  alpha -0.010504 -0.244040"
      ],
      "text/html": "<div>\n<style scoped>\n    .dataframe tbody tr th:only-of-type {\n        vertical-align: middle;\n    }\n\n    .dataframe tbody tr th {\n        vertical-align: top;\n    }\n\n    .dataframe thead th {\n        text-align: right;\n    }\n</style>\n<table border=\"1\" class=\"dataframe\">\n  <thead>\n    <tr style=\"text-align: right;\">\n      <th></th>\n      <th>k1</th>\n      <th>k2</th>\n      <th>dataset1</th>\n      <th>dataset2</th>\n    </tr>\n  </thead>\n  <tbody>\n    <tr>\n      <th>0</th>\n      <td>X</td>\n      <td>alpha</td>\n      <td>0.323534</td>\n      <td>1.681680</td>\n    </tr>\n    <tr>\n      <th>1</th>\n      <td>X</td>\n      <td>beta</td>\n      <td>0.805800</td>\n      <td>-0.326655</td>\n    </tr>\n    <tr>\n      <th>2</th>\n      <td>Y</td>\n      <td>alpha</td>\n      <td>0.463298</td>\n      <td>0.068401</td>\n    </tr>\n    <tr>\n      <th>3</th>\n      <td>Y</td>\n      <td>beta</td>\n      <td>-0.738612</td>\n      <td>1.441916</td>\n    </tr>\n    <tr>\n      <th>4</th>\n      <td>Z</td>\n      <td>alpha</td>\n      <td>-0.010504</td>\n      <td>-0.244040</td>\n    </tr>\n  </tbody>\n</table>\n</div>"
     },
     "metadata": {},
     "execution_count": 12
    }
   ],
   "source": [
    "dframe"
   ]
  },
  {
   "cell_type": "code",
   "execution_count": 13,
   "metadata": {},
   "outputs": [
    {
     "output_type": "stream",
     "name": "stdout",
     "text": [
      "This is the X group\n  k1     k2  dataset1  dataset2\n0  X  alpha  0.323534  1.681680\n1  X   beta  0.805800 -0.326655\n\n\nThis is the Y group\n  k1     k2  dataset1  dataset2\n2  Y  alpha  0.463298  0.068401\n3  Y   beta -0.738612  1.441916\n\n\nThis is the Z group\n  k1     k2  dataset1  dataset2\n4  Z  alpha -0.010504  -0.24404\n\n\n"
     ]
    }
   ],
   "source": [
    "for name, group in dframe.groupby('k1'):\n",
    "    print(f\"This is the {name} group\")\n",
    "    print(group)\n",
    "    print('\\n')"
   ]
  },
  {
   "cell_type": "code",
   "execution_count": 14,
   "metadata": {},
   "outputs": [
    {
     "output_type": "stream",
     "name": "stdout",
     "text": [
      "Key1 = X Key2 alpha\n  k1     k2  dataset1  dataset2\n0  X  alpha  0.323534   1.68168\n\n\nKey1 = X Key2 beta\n  k1    k2  dataset1  dataset2\n1  X  beta    0.8058 -0.326655\n\n\nKey1 = Y Key2 alpha\n  k1     k2  dataset1  dataset2\n2  Y  alpha  0.463298  0.068401\n\n\nKey1 = Y Key2 beta\n  k1    k2  dataset1  dataset2\n3  Y  beta -0.738612  1.441916\n\n\nKey1 = Z Key2 alpha\n  k1     k2  dataset1  dataset2\n4  Z  alpha -0.010504  -0.24404\n\n\n"
     ]
    }
   ],
   "source": [
    "for (k1,k2), group in dframe.groupby(['k1','k2']):\n",
    "    print(f\"Key1 = {k1} Key2 {k2}\")\n",
    "    print(group)\n",
    "    print('\\n')"
   ]
  },
  {
   "cell_type": "code",
   "execution_count": 15,
   "metadata": {},
   "outputs": [],
   "source": [
    "group_dict = dict(list(dframe.groupby('k1')))"
   ]
  },
  {
   "cell_type": "code",
   "execution_count": 16,
   "metadata": {},
   "outputs": [
    {
     "output_type": "execute_result",
     "data": {
      "text/plain": [
       "  k1     k2  dataset1  dataset2\n",
       "0  X  alpha  0.323534  1.681680\n",
       "1  X   beta  0.805800 -0.326655"
      ],
      "text/html": "<div>\n<style scoped>\n    .dataframe tbody tr th:only-of-type {\n        vertical-align: middle;\n    }\n\n    .dataframe tbody tr th {\n        vertical-align: top;\n    }\n\n    .dataframe thead th {\n        text-align: right;\n    }\n</style>\n<table border=\"1\" class=\"dataframe\">\n  <thead>\n    <tr style=\"text-align: right;\">\n      <th></th>\n      <th>k1</th>\n      <th>k2</th>\n      <th>dataset1</th>\n      <th>dataset2</th>\n    </tr>\n  </thead>\n  <tbody>\n    <tr>\n      <th>0</th>\n      <td>X</td>\n      <td>alpha</td>\n      <td>0.323534</td>\n      <td>1.681680</td>\n    </tr>\n    <tr>\n      <th>1</th>\n      <td>X</td>\n      <td>beta</td>\n      <td>0.805800</td>\n      <td>-0.326655</td>\n    </tr>\n  </tbody>\n</table>\n</div>"
     },
     "metadata": {},
     "execution_count": 16
    }
   ],
   "source": [
    "group_dict['X']"
   ]
  },
  {
   "cell_type": "code",
   "execution_count": 17,
   "metadata": {},
   "outputs": [],
   "source": [
    "group_dict_axis1 = dict(list(dframe.groupby(dframe.dtypes, axis=1)))"
   ]
  },
  {
   "cell_type": "code",
   "execution_count": 18,
   "metadata": {},
   "outputs": [
    {
     "output_type": "execute_result",
     "data": {
      "text/plain": [
       "{dtype('float64'):    dataset1  dataset2\n",
       " 0  0.323534  1.681680\n",
       " 1  0.805800 -0.326655\n",
       " 2  0.463298  0.068401\n",
       " 3 -0.738612  1.441916\n",
       " 4 -0.010504 -0.244040, dtype('O'):   k1     k2\n",
       " 0  X  alpha\n",
       " 1  X   beta\n",
       " 2  Y  alpha\n",
       " 3  Y   beta\n",
       " 4  Z  alpha}"
      ]
     },
     "metadata": {},
     "execution_count": 18
    }
   ],
   "source": [
    "group_dict_axis1"
   ]
  },
  {
   "cell_type": "code",
   "execution_count": 20,
   "metadata": {},
   "outputs": [
    {
     "output_type": "execute_result",
     "data": {
      "text/plain": [
       "          dataset2\n",
       "k1 k2             \n",
       "X  alpha  1.681680\n",
       "   beta  -0.326655\n",
       "Y  alpha  0.068401\n",
       "   beta   1.441916\n",
       "Z  alpha -0.244040"
      ],
      "text/html": "<div>\n<style scoped>\n    .dataframe tbody tr th:only-of-type {\n        vertical-align: middle;\n    }\n\n    .dataframe tbody tr th {\n        vertical-align: top;\n    }\n\n    .dataframe thead th {\n        text-align: right;\n    }\n</style>\n<table border=\"1\" class=\"dataframe\">\n  <thead>\n    <tr style=\"text-align: right;\">\n      <th></th>\n      <th></th>\n      <th>dataset2</th>\n    </tr>\n    <tr>\n      <th>k1</th>\n      <th>k2</th>\n      <th></th>\n    </tr>\n  </thead>\n  <tbody>\n    <tr>\n      <th rowspan=\"2\" valign=\"top\">X</th>\n      <th>alpha</th>\n      <td>1.681680</td>\n    </tr>\n    <tr>\n      <th>beta</th>\n      <td>-0.326655</td>\n    </tr>\n    <tr>\n      <th rowspan=\"2\" valign=\"top\">Y</th>\n      <th>alpha</th>\n      <td>0.068401</td>\n    </tr>\n    <tr>\n      <th>beta</th>\n      <td>1.441916</td>\n    </tr>\n    <tr>\n      <th>Z</th>\n      <th>alpha</th>\n      <td>-0.244040</td>\n    </tr>\n  </tbody>\n</table>\n</div>"
     },
     "metadata": {},
     "execution_count": 20
    }
   ],
   "source": [
    "dataset2_group = dframe.groupby(['k1','k2'])[['dataset2']]\n",
    "\n",
    "dataset2_group.mean()"
   ]
  },
  {
   "cell_type": "code",
   "execution_count": null,
   "metadata": {},
   "outputs": [],
   "source": []
  }
 ]
}